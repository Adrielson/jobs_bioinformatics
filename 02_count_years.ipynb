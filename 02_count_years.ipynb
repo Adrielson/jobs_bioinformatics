{
 "cells": [
  {
   "cell_type": "markdown",
   "id": "4b68d40b",
   "metadata": {},
   "source": [
    "# Count years of experience"
   ]
  },
  {
   "cell_type": "code",
   "execution_count": 1,
   "id": "d3d272c7",
   "metadata": {},
   "outputs": [],
   "source": [
    "import pandas as pd\n",
    "import re\n",
    "import regex\n",
    "\n",
    "#Plotagem\n",
    "%matplotlib inline \n",
    "import matplotlib.pyplot as plt \n",
    "import seaborn as sns"
   ]
  },
  {
   "cell_type": "code",
   "execution_count": 19,
   "id": "6285c8fa",
   "metadata": {},
   "outputs": [
    {
     "data": {
      "text/html": [
       "<div>\n",
       "<style scoped>\n",
       "    .dataframe tbody tr th:only-of-type {\n",
       "        vertical-align: middle;\n",
       "    }\n",
       "\n",
       "    .dataframe tbody tr th {\n",
       "        vertical-align: top;\n",
       "    }\n",
       "\n",
       "    .dataframe thead th {\n",
       "        text-align: right;\n",
       "    }\n",
       "</style>\n",
       "<table border=\"1\" class=\"dataframe\">\n",
       "  <thead>\n",
       "    <tr style=\"text-align: right;\">\n",
       "      <th></th>\n",
       "      <th>Unnamed: 0.1</th>\n",
       "      <th>Unnamed: 0</th>\n",
       "      <th>diffbotUri</th>\n",
       "      <th>humanLanguage</th>\n",
       "      <th>id</th>\n",
       "      <th>lastCrawlTime</th>\n",
       "      <th>name</th>\n",
       "      <th>pageUrl</th>\n",
       "      <th>requirements</th>\n",
       "      <th>resolvedPageUrl</th>\n",
       "      <th>summary</th>\n",
       "      <th>tasks</th>\n",
       "      <th>text</th>\n",
       "      <th>title</th>\n",
       "      <th>type</th>\n",
       "      <th>word_count</th>\n",
       "    </tr>\n",
       "  </thead>\n",
       "  <tbody>\n",
       "    <tr>\n",
       "      <th>0</th>\n",
       "      <td>0</td>\n",
       "      <td>0</td>\n",
       "      <td>http://diffbot.com/entity/JOB966384586</td>\n",
       "      <td>en</td>\n",
       "      <td>JOB966384586</td>\n",
       "      <td>1591962958</td>\n",
       "      <td>Bioinformatics Specialist, GIS</td>\n",
       "      <td>https://www.nature.com/naturecareers/job/bioin...</td>\n",
       "      <td>NaN</td>\n",
       "      <td>NaN</td>\n",
       "      <td>The Genomics Institute of Singapore () has an ...</td>\n",
       "      <td>NaN</td>\n",
       "      <td>The Genomics Institute of Singapore () has an ...</td>\n",
       "      <td>Bioinformatics Specialist, GIS</td>\n",
       "      <td>Job</td>\n",
       "      <td>130</td>\n",
       "    </tr>\n",
       "    <tr>\n",
       "      <th>1</th>\n",
       "      <td>1</td>\n",
       "      <td>1</td>\n",
       "      <td>http://diffbot.com/entity/JOB1028283361</td>\n",
       "      <td>en</td>\n",
       "      <td>JOB1028283361</td>\n",
       "      <td>1549734701</td>\n",
       "      <td>Postdoctoral Fellowship in Bioinformatics and ...</td>\n",
       "      <td>http://www.nature.com/naturejobs/science/jobs/...</td>\n",
       "      <td>NaN</td>\n",
       "      <td>https://www.nature.com/naturecareers/job?id=67...</td>\n",
       "      <td>The laboratories of Drs. Jeffrey Pessin, Fajun...</td>\n",
       "      <td>NaN</td>\n",
       "      <td>The laboratories of Drs. Jeffrey Pessin, Fajun...</td>\n",
       "      <td>Postdoctoral Fellowship in Bioinformatics and ...</td>\n",
       "      <td>Job</td>\n",
       "      <td>231</td>\n",
       "    </tr>\n",
       "  </tbody>\n",
       "</table>\n",
       "</div>"
      ],
      "text/plain": [
       "   Unnamed: 0.1  Unnamed: 0                               diffbotUri  \\\n",
       "0             0           0   http://diffbot.com/entity/JOB966384586   \n",
       "1             1           1  http://diffbot.com/entity/JOB1028283361   \n",
       "\n",
       "  humanLanguage             id  lastCrawlTime  \\\n",
       "0            en   JOB966384586     1591962958   \n",
       "1            en  JOB1028283361     1549734701   \n",
       "\n",
       "                                                name  \\\n",
       "0                     Bioinformatics Specialist, GIS   \n",
       "1  Postdoctoral Fellowship in Bioinformatics and ...   \n",
       "\n",
       "                                             pageUrl requirements  \\\n",
       "0  https://www.nature.com/naturecareers/job/bioin...          NaN   \n",
       "1  http://www.nature.com/naturejobs/science/jobs/...          NaN   \n",
       "\n",
       "                                     resolvedPageUrl  \\\n",
       "0                                                NaN   \n",
       "1  https://www.nature.com/naturecareers/job?id=67...   \n",
       "\n",
       "                                             summary tasks  \\\n",
       "0  The Genomics Institute of Singapore () has an ...   NaN   \n",
       "1  The laboratories of Drs. Jeffrey Pessin, Fajun...   NaN   \n",
       "\n",
       "                                                text  \\\n",
       "0  The Genomics Institute of Singapore () has an ...   \n",
       "1  The laboratories of Drs. Jeffrey Pessin, Fajun...   \n",
       "\n",
       "                                               title type  word_count  \n",
       "0                     Bioinformatics Specialist, GIS  Job         130  \n",
       "1  Postdoctoral Fellowship in Bioinformatics and ...  Job         231  "
      ]
     },
     "execution_count": 19,
     "metadata": {},
     "output_type": "execute_result"
    }
   ],
   "source": [
    "df = pd.read_csv('job_bioinfo_csv/bioinf_ads_deduplicated.csv')\n",
    "df.head(2)"
   ]
  },
  {
   "cell_type": "code",
   "execution_count": 20,
   "id": "e8348bb3",
   "metadata": {},
   "outputs": [
    {
     "data": {
      "text/plain": [
       "2016"
      ]
     },
     "execution_count": 20,
     "metadata": {},
     "output_type": "execute_result"
    }
   ],
   "source": [
    "len(df)"
   ]
  },
  {
   "cell_type": "markdown",
   "id": "0d338cc6",
   "metadata": {},
   "source": [
    "### Years experience"
   ]
  },
  {
   "cell_type": "code",
   "execution_count": 21,
   "id": "0a0c08a8",
   "metadata": {},
   "outputs": [
    {
     "name": "stdout",
     "output_type": "stream",
     "text": [
      "('5-7', 'years experience')\n",
      "('5-7', 'years experience')\n",
      "('6', 'years experience')\n",
      "('4', 'years experience')\n",
      "('5-7', 'years experience')\n",
      "('2-3', 'years experience')\n",
      "('5+', 'years experience')\n",
      "('3+', 'years experience')\n",
      "('2-3', 'years experience')\n",
      "('1-3', 'years experience')\n",
      "('3', 'years experience')\n",
      "('3', 'years experience')\n",
      "('3', 'years experience')\n",
      "('3', 'years experience')\n",
      "('5', 'years experience')\n",
      "('1', 'years experience')\n",
      "('2', 'years experience')\n",
      "('2', 'years experience')\n",
      "('1', 'years experience')\n",
      "('3+', 'years experience')\n",
      "('1', 'years experience')\n",
      "('1+', 'years experience')\n",
      "('6+', 'years experience')\n",
      "('6+', 'years experience')\n",
      "('1+', 'years experience')\n",
      "('1+', 'years experience')\n",
      "('1+', 'years experience')\n",
      "('1+', 'years experience')\n",
      "('1+', 'years experience')\n",
      "('1+', 'years experience')\n",
      "('6+', 'years experience')\n",
      "('1+', 'years experience')\n",
      "('1+', 'years experience')\n",
      "('6+', 'years experience')\n",
      "('6+', 'years experience')\n",
      "('6+', 'years experience')\n",
      "('8', 'years experience')\n",
      "('1+', 'years experience')\n",
      "('6+', 'years experience')\n",
      "('1+', 'years experience')\n",
      "('1+', 'years experience')\n",
      "('6+', 'years experience')\n",
      "('6+', 'years experience')\n",
      "('8', 'years experience')\n",
      "('8', 'years experience')\n",
      "('8', 'years experience')\n"
     ]
    },
    {
     "name": "stderr",
     "output_type": "stream",
     "text": [
      "<>:4: SyntaxWarning: \"is not\" with a literal. Did you mean \"!=\"?\n",
      "<>:4: SyntaxWarning: \"is not\" with a literal. Did you mean \"!=\"?\n",
      "C:\\Users\\adrie\\AppData\\Local\\Temp\\ipykernel_25192\\764519580.py:4: SyntaxWarning: \"is not\" with a literal. Did you mean \"!=\"?\n",
      "  if text is not 'nan':\n"
     ]
    }
   ],
   "source": [
    "rx = re.compile(r\"(\\d+(?:-\\d+)?\\+?)\\s*(years? experience)\", re.I)\n",
    "yearsrx = []\n",
    "for text in df.text:\n",
    "    if text is not 'nan':\n",
    "        exp_temp = rx.search(text)\n",
    "        if exp_temp:\n",
    "            print(exp_temp.groups())\n",
    "            yearsrx.append(exp_temp)"
   ]
  },
  {
   "cell_type": "code",
   "execution_count": 22,
   "id": "9d0d34a8",
   "metadata": {
    "scrolled": false
   },
   "outputs": [],
   "source": [
    "regex = r\"(?i)\\b(?:\\d+(?:\\.\\d+)?\\s*[-+]?\\s*\\d*(?:\\.\\d+)?\\s*(?:year|yr|yrs|years)|\\d+(?:\\.\\d+)?\\s*[-+]\\s*(?:year|yr|yrs|years))\\s*(?:of)?\\s*(?:relevant)?\\s*experience\\b\"\n",
    "\n",
    "years = []\n",
    "\n",
    "for index, row in df.iterrows():\n",
    "    matches = re.findall(regex, row.text)\n",
    "    if len(matches) > 0:\n",
    "#         print(index)\n",
    "#         print(matches)\n",
    "        years.append(matches[0])\n",
    "    else:\n",
    "        years.append(None)\n",
    "\n",
    "df['years_experience'] = years"
   ]
  },
  {
   "cell_type": "code",
   "execution_count": 23,
   "id": "e43061e8",
   "metadata": {},
   "outputs": [
    {
     "data": {
      "text/plain": [
       "years_experience\n",
       "5 years of experience              18\n",
       "1+ years experience                12\n",
       "6+ years experience                 9\n",
       "2 years relevant experience         7\n",
       "10 years of experience              7\n",
       "5+ years of experience              5\n",
       "2 years of experience               5\n",
       "8 years experience                  4\n",
       "3 yrs experience                    4\n",
       "3 years experience                  4\n",
       "5-7 years experience                3\n",
       "3 years of experience               3\n",
       "1 years experience                  3\n",
       "6-9 years relevant experience       3\n",
       "0-2 years relevant experience       3\n",
       "7 years of experience               3\n",
       "10 years of relevant experience     2\n",
       "8 years of experience               2\n",
       "2 years experience                  2\n",
       "2-3 years experience                2\n",
       "4 - 10 years of experience          2\n",
       "4 years of experience               2\n",
       "2-3 years of experience             2\n",
       "7+ years of experience              2\n",
       "2+ years of experience              2\n",
       "5 years of relevant experience      2\n",
       "3+ years experience                 2\n",
       "8+ years of experience              2\n",
       "2-4 years of experience             2\n",
       "3 years relevant experience         2\n",
       "6 years of experience               2\n",
       "2 years of relevant experience      2\n",
       "3-5 years relevant experience       2\n",
       "6 years experience                  1\n",
       "0-2 years of experience             1\n",
       "1 year of relevant experience       1\n",
       "1-2 years of\\nexperience            1\n",
       "5 years relevant experience         1\n",
       "5-10 years of experience            1\n",
       "2-5 years of experience             1\n",
       "3-5 years of experience             1\n",
       "30 years of experience              1\n",
       "4 years experience                  1\n",
       "4+ years relevant experience        1\n",
       "2+ years of relevant experience     1\n",
       "8-10 years of experience            1\n",
       "7-10 yrs of experience              1\n",
       "5 years experience                  1\n",
       "1-3 years experience                1\n",
       "1 year of experience                1\n",
       "1 year relevant experience          1\n",
       "15 years of experience              1\n",
       "5+ years experience                 1\n",
       "4+ years of relevant experience     1\n",
       "2years of relevant experience       1\n",
       "3+ years of experience              1\n",
       "Name: count, dtype: int64"
      ]
     },
     "execution_count": 23,
     "metadata": {},
     "output_type": "execute_result"
    }
   ],
   "source": [
    "df['years_experience'].value_counts()"
   ]
  },
  {
   "cell_type": "code",
   "execution_count": 28,
   "id": "b0f55399",
   "metadata": {},
   "outputs": [],
   "source": [
    "def clean_years(years):\n",
    "    if years is None:\n",
    "        return years\n",
    "    else:\n",
    "        cleaned_years = re.sub(r'[a-zA-Z\\s]+', '', years)\n",
    "        return cleaned_years\n",
    "\n",
    "df['clean_years'] = df['years_experience'].apply(clean_years)"
   ]
  },
  {
   "cell_type": "code",
   "execution_count": 29,
   "id": "953e56e4",
   "metadata": {},
   "outputs": [
    {
     "data": {
      "text/plain": [
       "clean_years\n",
       "5       22\n",
       "2       17\n",
       "3       13\n",
       "1+      12\n",
       "6+       9\n",
       "10       9\n",
       "8        6\n",
       "5+       6\n",
       "1        6\n",
       "0-2      4\n",
       "2-3      4\n",
       "4        3\n",
       "3+       3\n",
       "3-5      3\n",
       "6-9      3\n",
       "2+       3\n",
       "7        3\n",
       "6        3\n",
       "5-7      3\n",
       "8+       2\n",
       "4+       2\n",
       "4-10     2\n",
       "7+       2\n",
       "2-4      2\n",
       "1-2      1\n",
       "15       1\n",
       "8-10     1\n",
       "30       1\n",
       "1-3      1\n",
       "7-10     1\n",
       "2-5      1\n",
       "5-10     1\n",
       "Name: count, dtype: int64"
      ]
     },
     "execution_count": 29,
     "metadata": {},
     "output_type": "execute_result"
    }
   ],
   "source": [
    "df['clean_years'].value_counts()"
   ]
  },
  {
   "cell_type": "code",
   "execution_count": 30,
   "id": "acfa63d4",
   "metadata": {},
   "outputs": [
    {
     "data": {
      "image/png": "[encoded data removed]",
      "text/plain": [
       "<Figure size 1900x400 with 1 Axes>"
      ]
     },
     "metadata": {},
     "output_type": "display_data"
    }
   ],
   "source": [
    "counts = df['clean_years'].value_counts().sort_index()\n",
    "\n",
    "order = counts.index\n",
    "\n",
    "sns.set_palette(\"crest\", n_colors=32)\n",
    "\n",
    "plt.figure(figsize=(19,4))\n",
    "sns.countplot(x=\"clean_years\", data=df, order=order)\n",
    "plt.show()"
   ]
  },
  {
   "cell_type": "markdown",
   "id": "f36a4e41",
   "metadata": {},
   "source": [
    "Here, the exact ranges and years are combined by considering the minimum required years of experience."
   ]
  },
  {
   "cell_type": "code",
   "execution_count": 31,
   "id": "b75dcdd7",
   "metadata": {},
   "outputs": [],
   "source": [
    "#minimum required years of experience\n",
    "def year_minimum(years):\n",
    "    if years is None:\n",
    "        return None\n",
    "    elif re.match(r'^\\d+\\+$', years):\n",
    "        return int(years[:-1])\n",
    "    elif re.match(r'^\\d+-\\d+$', years):\n",
    "        return int(years.split('-')[0])\n",
    "    else:\n",
    "        return int(years)\n",
    "\n",
    "df['clean_years'] = df['clean_years'].apply(year_minimum)"
   ]
  },
  {
   "cell_type": "code",
   "execution_count": 32,
   "id": "838d29b5",
   "metadata": {},
   "outputs": [
    {
     "data": {
      "text/plain": [
       "clean_years\n",
       "5.0     32\n",
       "2.0     27\n",
       "1.0     20\n",
       "3.0     19\n",
       "6.0     15\n",
       "10.0     9\n",
       "8.0      9\n",
       "4.0      7\n",
       "7.0      6\n",
       "0.0      4\n",
       "30.0     1\n",
       "15.0     1\n",
       "Name: count, dtype: int64"
      ]
     },
     "execution_count": 32,
     "metadata": {},
     "output_type": "execute_result"
    }
   ],
   "source": [
    "df['clean_years'].value_counts()"
   ]
  },
  {
   "cell_type": "code",
   "execution_count": 33,
   "id": "83a9145f",
   "metadata": {},
   "outputs": [],
   "source": [
    "def standardize_years(year):\n",
    "    if year is None:\n",
    "        return None\n",
    "    elif year >= 10 and year <=15:\n",
    "        return '10+'\n",
    "    else:\n",
    "        return year\n",
    "\n",
    "df['clean_years'] = df['clean_years'].apply(lambda x: standardize_years(x))"
   ]
  },
  {
   "cell_type": "code",
   "execution_count": 34,
   "id": "064b683a",
   "metadata": {
    "scrolled": true
   },
   "outputs": [
    {
     "data": {
      "text/plain": [
       "clean_years\n",
       "5.0     32\n",
       "2.0     27\n",
       "1.0     20\n",
       "3.0     19\n",
       "6.0     15\n",
       "10+     10\n",
       "8.0      9\n",
       "4.0      7\n",
       "7.0      6\n",
       "0.0      4\n",
       "30.0     1\n",
       "Name: count, dtype: int64"
      ]
     },
     "execution_count": 34,
     "metadata": {},
     "output_type": "execute_result"
    }
   ],
   "source": [
    "df['clean_years'].value_counts()"
   ]
  },
  {
   "cell_type": "code",
   "execution_count": 35,
   "id": "9654fd07",
   "metadata": {
    "scrolled": false
   },
   "outputs": [
    {
     "data": {
      "image/png": "[encoded data removed]",
      "text/plain": [
       "<Figure size 640x480 with 1 Axes>"
      ]
     },
     "metadata": {},
     "output_type": "display_data"
    }
   ],
   "source": [
    "sns.set()\n",
    "sns.set_palette(\"crest\", n_colors=10)\n",
    "\n",
    "sns.countplot(x=\"clean_years\", data=df, order=[0, 1, 2, 3, 4, 5, 6, 7, 8, \"10+\"])\n",
    "\n",
    "plt.xlabel('Years of experience required', fontsize = 12)\n",
    "plt.ylabel('Frequency', fontsize = 12)\n",
    "plt.show()\n",
    "plt.savefig('img/years_of_experience_required.png')"
   ]
  },
  {
   "cell_type": "code",
   "execution_count": null,
   "id": "05d98710",
   "metadata": {},
   "outputs": [],
   "source": []
  }
 ],
 "metadata": {
  "kernelspec": {
   "display_name": "Python 3 (ipykernel)",
   "language": "python",
   "name": "python3"
  },
  "language_info": {
   "codemirror_mode": {
    "name": "ipython",
    "version": 3
   },
   "file_extension": ".py",
   "mimetype": "text/x-python",
   "name": "python",
   "nbconvert_exporter": "python",
   "pygments_lexer": "ipython3",
   "version": "3.11.5"
  }
 },
 "nbformat": 4,
 "nbformat_minor": 5
}
