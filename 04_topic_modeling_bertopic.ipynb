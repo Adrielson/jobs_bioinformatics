{
 "cells": [
  {
   "cell_type": "markdown",
   "metadata": {
    "id": "AXHLDxJdRzBi"
   },
   "source": [
    "# Topic Modeling with BERTopic\n",
    "\n",
    "BERTopic is a topic modeling technique that uses transformers 🤗 and a custom class-based TF-IDF to create dense clusters, allowing for easily interpretable topics while keeping important words in topic descriptions.\n",
    "\n",
    "<br>\n",
    "\n",
    "<img src=\"https://raw.githubusercontent.com/MaartenGr/BERTopic/master/images/logo.png\" width=\"10%\">\n",
    "\n",
    "<img src=\"https://github.com/MaartenGr/BERTopic/blob/master/docs/img/algorithm.png?raw=true\" width=\"50%\">"
   ]
  },
  {
   "cell_type": "markdown",
   "metadata": {
    "id": "lj2MUI9Mkdxu"
   },
   "source": [
    "# **Installing BERTopic**\n",
    "\n",
    "We start by installing PyPi's BERTopic:"
   ]
  },
  {
   "cell_type": "code",
   "execution_count": null,
   "metadata": {
    "id": "SNa-KtKDRnus"
   },
   "outputs": [],
   "source": [
    "# %%capture\n",
    "# !pip install bertopic"
   ]
  },
  {
   "cell_type": "markdown",
   "metadata": {
    "id": "0ehO3emgk96g"
   },
   "source": [
    "## Import dependencies"
   ]
  },
  {
   "cell_type": "code",
   "execution_count": 1,
   "metadata": {
    "scrolled": true
   },
   "outputs": [],
   "source": [
    "import pandas as pd\n",
    "from bertopic import BERTopic"
   ]
  },
  {
   "cell_type": "markdown",
   "metadata": {
    "id": "Y3VGFZ1USMTu"
   },
   "source": [
    "## Importing dataset\n",
    "\n",
    "For this project, we will use a preprocessed dataset of job vacancies in the field of bioinformatics"
   ]
  },
  {
   "cell_type": "code",
   "execution_count": 56,
   "metadata": {
    "id": "JJij3WP6SEQD",
    "scrolled": true
   },
   "outputs": [
    {
     "data": {
      "text/html": [
       "<div>\n",
       "<style scoped>\n",
       "    .dataframe tbody tr th:only-of-type {\n",
       "        vertical-align: middle;\n",
       "    }\n",
       "\n",
       "    .dataframe tbody tr th {\n",
       "        vertical-align: top;\n",
       "    }\n",
       "\n",
       "    .dataframe thead th {\n",
       "        text-align: right;\n",
       "    }\n",
       "</style>\n",
       "<table border=\"1\" class=\"dataframe\">\n",
       "  <thead>\n",
       "    <tr style=\"text-align: right;\">\n",
       "      <th></th>\n",
       "      <th>Unnamed: 0.3</th>\n",
       "      <th>Unnamed: 0.2</th>\n",
       "      <th>Unnamed: 0.1</th>\n",
       "      <th>Unnamed: 0</th>\n",
       "      <th>diffbotUri</th>\n",
       "      <th>humanLanguage</th>\n",
       "      <th>id</th>\n",
       "      <th>lastCrawlTime</th>\n",
       "      <th>name</th>\n",
       "      <th>pageUrl</th>\n",
       "      <th>...</th>\n",
       "      <th>resolvedPageUrl</th>\n",
       "      <th>summary</th>\n",
       "      <th>tasks</th>\n",
       "      <th>text</th>\n",
       "      <th>title</th>\n",
       "      <th>type</th>\n",
       "      <th>word_count</th>\n",
       "      <th>urlCleaned</th>\n",
       "      <th>text_result</th>\n",
       "      <th>title_result</th>\n",
       "    </tr>\n",
       "  </thead>\n",
       "  <tbody>\n",
       "    <tr>\n",
       "      <th>0</th>\n",
       "      <td>0</td>\n",
       "      <td>0</td>\n",
       "      <td>0</td>\n",
       "      <td>0</td>\n",
       "      <td>http://diffbot.com/entity/JOB966384586</td>\n",
       "      <td>en</td>\n",
       "      <td>JOB966384586</td>\n",
       "      <td>1591962958</td>\n",
       "      <td>Bioinformatics Specialist, GIS</td>\n",
       "      <td>https://www.nature.com/naturecareers/job/bioin...</td>\n",
       "      <td>...</td>\n",
       "      <td>NaN</td>\n",
       "      <td>The Genomics Institute of Singapore () has an ...</td>\n",
       "      <td>NaN</td>\n",
       "      <td>The Genomics Institute of Singapore () has an ...</td>\n",
       "      <td>Bioinformatics Specialist, GIS</td>\n",
       "      <td>Job</td>\n",
       "      <td>130</td>\n",
       "      <td>nature</td>\n",
       "      <td>genomics institute singapore exciting opportun...</td>\n",
       "      <td>bioinformatics specialist gis</td>\n",
       "    </tr>\n",
       "    <tr>\n",
       "      <th>1</th>\n",
       "      <td>1</td>\n",
       "      <td>1</td>\n",
       "      <td>1</td>\n",
       "      <td>1</td>\n",
       "      <td>http://diffbot.com/entity/JOB1028283361</td>\n",
       "      <td>en</td>\n",
       "      <td>JOB1028283361</td>\n",
       "      <td>1549734701</td>\n",
       "      <td>Postdoctoral Fellowship in Bioinformatics and ...</td>\n",
       "      <td>http://www.nature.com/naturejobs/science/jobs/...</td>\n",
       "      <td>...</td>\n",
       "      <td>https://www.nature.com/naturecareers/job?id=67...</td>\n",
       "      <td>The laboratories of Drs. Jeffrey Pessin, Fajun...</td>\n",
       "      <td>NaN</td>\n",
       "      <td>The laboratories of Drs. Jeffrey Pessin, Fajun...</td>\n",
       "      <td>Postdoctoral Fellowship in Bioinformatics and ...</td>\n",
       "      <td>Job</td>\n",
       "      <td>231</td>\n",
       "      <td>nature</td>\n",
       "      <td>laboratories drs jeffrey pessin fajun yang dey...</td>\n",
       "      <td>postdoctoral fellowship bioinformatics molecul...</td>\n",
       "    </tr>\n",
       "    <tr>\n",
       "      <th>2</th>\n",
       "      <td>2</td>\n",
       "      <td>2</td>\n",
       "      <td>2</td>\n",
       "      <td>2</td>\n",
       "      <td>http://diffbot.com/entity/JOB1570298833</td>\n",
       "      <td>en</td>\n",
       "      <td>JOB1570298833</td>\n",
       "      <td>1486437231</td>\n",
       "      <td>Bioinformatics Analyst : Bar Harbor, ME, Unite...</td>\n",
       "      <td>http://www.nature.com/naturejobs/science/jobs/...</td>\n",
       "      <td>...</td>\n",
       "      <td>NaN</td>\n",
       "      <td>\\nTweet\\nFacebook\\nLinkedIn\\nThe MDI Biologica...</td>\n",
       "      <td>NaN</td>\n",
       "      <td>\\nTweet\\nFacebook\\nLinkedIn\\nThe MDI Biologica...</td>\n",
       "      <td>Bioinformatics Analyst : Bar Harbor, ME, Unite...</td>\n",
       "      <td>Job</td>\n",
       "      <td>179</td>\n",
       "      <td>nature</td>\n",
       "      <td>tweetfacebooklinkedinthe mdi biological labora...</td>\n",
       "      <td>bioinformatics analyst bar harbor united states</td>\n",
       "    </tr>\n",
       "    <tr>\n",
       "      <th>3</th>\n",
       "      <td>3</td>\n",
       "      <td>3</td>\n",
       "      <td>3</td>\n",
       "      <td>3</td>\n",
       "      <td>http://diffbot.com/entity/JOB2313411533</td>\n",
       "      <td>en</td>\n",
       "      <td>JOB2313411533</td>\n",
       "      <td>1629620706</td>\n",
       "      <td>Postdoctoral Fellow in Bioinformatics and/or G...</td>\n",
       "      <td>https://www.nature.com/naturecareers/job/postd...</td>\n",
       "      <td>...</td>\n",
       "      <td>NaN</td>\n",
       "      <td>We are looking for enthusiastic postdoctoral f...</td>\n",
       "      <td>NaN</td>\n",
       "      <td>We are looking for enthusiastic postdoctoral f...</td>\n",
       "      <td>Postdoctoral Fellow in Bioinformatics and/or G...</td>\n",
       "      <td>Job</td>\n",
       "      <td>351</td>\n",
       "      <td>nature</td>\n",
       "      <td>looking enthusiastic postdoctoral fellows join...</td>\n",
       "      <td>postdoctoral fellow bioinformatics genomics</td>\n",
       "    </tr>\n",
       "    <tr>\n",
       "      <th>4</th>\n",
       "      <td>4</td>\n",
       "      <td>4</td>\n",
       "      <td>4</td>\n",
       "      <td>4</td>\n",
       "      <td>http://diffbot.com/entity/JOB2513853425</td>\n",
       "      <td>en</td>\n",
       "      <td>JOB2513853425</td>\n",
       "      <td>1563630178</td>\n",
       "      <td>Postdoctoral Position in Bioinformatics, Micro...</td>\n",
       "      <td>https://www.nature.com/naturecareers/job/postd...</td>\n",
       "      <td>...</td>\n",
       "      <td>NaN</td>\n",
       "      <td>Work group:\\nInstitute of Virology\\nArea of re...</td>\n",
       "      <td>NaN</td>\n",
       "      <td>Work group:\\nInstitute of Virology\\nArea of re...</td>\n",
       "      <td>Postdoctoral Position in Bioinformatics, Micro...</td>\n",
       "      <td>Job</td>\n",
       "      <td>525</td>\n",
       "      <td>nature</td>\n",
       "      <td>work group institute virologyarea research sci...</td>\n",
       "      <td>postdoctoral position bioinformatics microbial...</td>\n",
       "    </tr>\n",
       "  </tbody>\n",
       "</table>\n",
       "<p>5 rows × 21 columns</p>\n",
       "</div>"
      ],
      "text/plain": [
       "   Unnamed: 0.3  Unnamed: 0.2  Unnamed: 0.1  Unnamed: 0  \\\n",
       "0             0             0             0           0   \n",
       "1             1             1             1           1   \n",
       "2             2             2             2           2   \n",
       "3             3             3             3           3   \n",
       "4             4             4             4           4   \n",
       "\n",
       "                                diffbotUri humanLanguage             id  \\\n",
       "0   http://diffbot.com/entity/JOB966384586            en   JOB966384586   \n",
       "1  http://diffbot.com/entity/JOB1028283361            en  JOB1028283361   \n",
       "2  http://diffbot.com/entity/JOB1570298833            en  JOB1570298833   \n",
       "3  http://diffbot.com/entity/JOB2313411533            en  JOB2313411533   \n",
       "4  http://diffbot.com/entity/JOB2513853425            en  JOB2513853425   \n",
       "\n",
       "   lastCrawlTime                                               name  \\\n",
       "0     1591962958                     Bioinformatics Specialist, GIS   \n",
       "1     1549734701  Postdoctoral Fellowship in Bioinformatics and ...   \n",
       "2     1486437231  Bioinformatics Analyst : Bar Harbor, ME, Unite...   \n",
       "3     1629620706  Postdoctoral Fellow in Bioinformatics and/or G...   \n",
       "4     1563630178  Postdoctoral Position in Bioinformatics, Micro...   \n",
       "\n",
       "                                             pageUrl  ...  \\\n",
       "0  https://www.nature.com/naturecareers/job/bioin...  ...   \n",
       "1  http://www.nature.com/naturejobs/science/jobs/...  ...   \n",
       "2  http://www.nature.com/naturejobs/science/jobs/...  ...   \n",
       "3  https://www.nature.com/naturecareers/job/postd...  ...   \n",
       "4  https://www.nature.com/naturecareers/job/postd...  ...   \n",
       "\n",
       "                                     resolvedPageUrl  \\\n",
       "0                                                NaN   \n",
       "1  https://www.nature.com/naturecareers/job?id=67...   \n",
       "2                                                NaN   \n",
       "3                                                NaN   \n",
       "4                                                NaN   \n",
       "\n",
       "                                             summary tasks  \\\n",
       "0  The Genomics Institute of Singapore () has an ...   NaN   \n",
       "1  The laboratories of Drs. Jeffrey Pessin, Fajun...   NaN   \n",
       "2  \\nTweet\\nFacebook\\nLinkedIn\\nThe MDI Biologica...   NaN   \n",
       "3  We are looking for enthusiastic postdoctoral f...   NaN   \n",
       "4  Work group:\\nInstitute of Virology\\nArea of re...   NaN   \n",
       "\n",
       "                                                text  \\\n",
       "0  The Genomics Institute of Singapore () has an ...   \n",
       "1  The laboratories of Drs. Jeffrey Pessin, Fajun...   \n",
       "2  \\nTweet\\nFacebook\\nLinkedIn\\nThe MDI Biologica...   \n",
       "3  We are looking for enthusiastic postdoctoral f...   \n",
       "4  Work group:\\nInstitute of Virology\\nArea of re...   \n",
       "\n",
       "                                               title type word_count  \\\n",
       "0                     Bioinformatics Specialist, GIS  Job        130   \n",
       "1  Postdoctoral Fellowship in Bioinformatics and ...  Job        231   \n",
       "2  Bioinformatics Analyst : Bar Harbor, ME, Unite...  Job        179   \n",
       "3  Postdoctoral Fellow in Bioinformatics and/or G...  Job        351   \n",
       "4  Postdoctoral Position in Bioinformatics, Micro...  Job        525   \n",
       "\n",
       "   urlCleaned                                        text_result  \\\n",
       "0      nature  genomics institute singapore exciting opportun...   \n",
       "1      nature  laboratories drs jeffrey pessin fajun yang dey...   \n",
       "2      nature  tweetfacebooklinkedinthe mdi biological labora...   \n",
       "3      nature  looking enthusiastic postdoctoral fellows join...   \n",
       "4      nature  work group institute virologyarea research sci...   \n",
       "\n",
       "                                        title_result  \n",
       "0                      bioinformatics specialist gis  \n",
       "1  postdoctoral fellowship bioinformatics molecul...  \n",
       "2    bioinformatics analyst bar harbor united states  \n",
       "3        postdoctoral fellow bioinformatics genomics  \n",
       "4  postdoctoral position bioinformatics microbial...  \n",
       "\n",
       "[5 rows x 21 columns]"
      ]
     },
     "execution_count": 56,
     "metadata": {},
     "output_type": "execute_result"
    }
   ],
   "source": [
    "docs = pd.read_csv('job_bioinfo_csv/bioinf_ads_preprocessed.csv')\n",
    "docs.head(5)"
   ]
  },
  {
   "cell_type": "markdown",
   "metadata": {
    "id": "QI6vwelqnTL-"
   },
   "source": [
    "## Training\n",
    "\n",
    "We start by instantiating BERTopic. We set the language to 'English' as ​​our documents are in the English language. If you want to use a multilingual model, use `language=\"multilingual\"`.\n",
    "\n",
    "We will also calculate the topic probabilities. However, this can make BERTopic significantly slower on large amounts of data (>100_000 documents). It is advisable to disable it if you want to speed up the model."
   ]
  },
  {
   "cell_type": "code",
   "execution_count": 57,
   "metadata": {
    "id": "TfhfzqkoSJ1I",
    "scrolled": false
   },
   "outputs": [],
   "source": [
    "topic_model = BERTopic(language=\"english\", calculate_probabilities=True, verbose=True) #, nr_topics = 20)\n",
    "topics, probs = topic_model.fit_transform(docs.text_result)"
   ]
  },
  {
   "cell_type": "code",
   "execution_count": 58,
   "metadata": {},
   "outputs": [],
   "source": [
    "topic_model = topic_model.reduce_topics(docs.text_result, nr_topics=11)"
   ]
  },
  {
   "cell_type": "markdown",
   "metadata": {
    "id": "A5O3KpHTnVpz"
   },
   "source": [
    "## Extracting Topics\n",
    "After fine-tuning our model, we can start looking at the results. Typically, we look at the most frequent topics first, as they best represent the document collection."
   ]
  },
  {
   "cell_type": "code",
   "execution_count": 29,
   "metadata": {},
   "outputs": [
    {
     "data": {
      "text/plain": [
       "10"
      ]
     },
     "execution_count": 29,
     "metadata": {},
     "output_type": "execute_result"
    }
   ],
   "source": [
    "len(topic_model.get_topic_info())"
   ]
  },
  {
   "cell_type": "code",
   "execution_count": 30,
   "metadata": {
    "colab": {
     "base_uri": "https://localhost:8080/",
     "height": 195
    },
    "id": "ScBUgXn06IK6",
    "outputId": "ee49a346-8d12-41c4-c7e9-8c1b6782c636",
    "scrolled": true
   },
   "outputs": [
    {
     "data": {
      "text/html": [
       "<div>\n",
       "<style scoped>\n",
       "    .dataframe tbody tr th:only-of-type {\n",
       "        vertical-align: middle;\n",
       "    }\n",
       "\n",
       "    .dataframe tbody tr th {\n",
       "        vertical-align: top;\n",
       "    }\n",
       "\n",
       "    .dataframe thead th {\n",
       "        text-align: right;\n",
       "    }\n",
       "</style>\n",
       "<table border=\"1\" class=\"dataframe\">\n",
       "  <thead>\n",
       "    <tr style=\"text-align: right;\">\n",
       "      <th></th>\n",
       "      <th>Topic</th>\n",
       "      <th>Count</th>\n",
       "      <th>Name</th>\n",
       "      <th>Representation</th>\n",
       "      <th>Representative_Docs</th>\n",
       "    </tr>\n",
       "  </thead>\n",
       "  <tbody>\n",
       "    <tr>\n",
       "      <th>0</th>\n",
       "      <td>-1</td>\n",
       "      <td>501</td>\n",
       "      <td>-1_data_research_bioinformatics_experience</td>\n",
       "      <td>[data, research, bioinformatics, experience, c...</td>\n",
       "      <td>[principal scientist computational biology hum...</td>\n",
       "    </tr>\n",
       "    <tr>\n",
       "      <th>1</th>\n",
       "      <td>0</td>\n",
       "      <td>939</td>\n",
       "      <td>0_data_research_computational_experience</td>\n",
       "      <td>[data, research, computational, experience, bi...</td>\n",
       "      <td>[descriptioncelgene global biopharmaceutical c...</td>\n",
       "    </tr>\n",
       "    <tr>\n",
       "      <th>2</th>\n",
       "      <td>1</td>\n",
       "      <td>224</td>\n",
       "      <td>1_software_developer_experience_python</td>\n",
       "      <td>[software, developer, experience, python, deve...</td>\n",
       "      <td>[lead software developer bioinformaticsa new o...</td>\n",
       "    </tr>\n",
       "    <tr>\n",
       "      <th>3</th>\n",
       "      <td>2</td>\n",
       "      <td>149</td>\n",
       "      <td>2_research_university_students_teaching</td>\n",
       "      <td>[research, university, students, teaching, bio...</td>\n",
       "      <td>[position description department biological st...</td>\n",
       "    </tr>\n",
       "    <tr>\n",
       "      <th>4</th>\n",
       "      <td>3</td>\n",
       "      <td>68</td>\n",
       "      <td>3_module_sequence_course_bioinformatics</td>\n",
       "      <td>[module, sequence, course, bioinformatics, lea...</td>\n",
       "      <td>[biomedical sciencescourse co ordinatordr b c ...</td>\n",
       "    </tr>\n",
       "    <tr>\n",
       "      <th>5</th>\n",
       "      <td>4</td>\n",
       "      <td>47</td>\n",
       "      <td>4_job_jobs_bioinformatics_cassava</td>\n",
       "      <td>[job, jobs, bioinformatics, cassava, institute...</td>\n",
       "      <td>[scientific programme pdra bioinformatics depe...</td>\n",
       "    </tr>\n",
       "    <tr>\n",
       "      <th>6</th>\n",
       "      <td>5</td>\n",
       "      <td>34</td>\n",
       "      <td>5_board_society_job_worldwide</td>\n",
       "      <td>[board, society, job, worldwide, oncology, pla...</td>\n",
       "      <td>[found phd computational biology biostatistics...</td>\n",
       "    </tr>\n",
       "    <tr>\n",
       "      <th>7</th>\n",
       "      <td>6</td>\n",
       "      <td>22</td>\n",
       "      <td>6_protein_research_crag_plant</td>\n",
       "      <td>[protein, research, crag, plant, computational...</td>\n",
       "      <td>[crag seeksthe centre research agricultural ge...</td>\n",
       "    </tr>\n",
       "    <tr>\n",
       "      <th>8</th>\n",
       "      <td>7</td>\n",
       "      <td>16</td>\n",
       "      <td>7_clinical_autoimmune_research_lupus</td>\n",
       "      <td>[clinical, autoimmune, research, lupus, diseas...</td>\n",
       "      <td>[data analyst bioinformatics specialist transl...</td>\n",
       "    </tr>\n",
       "    <tr>\n",
       "      <th>9</th>\n",
       "      <td>8</td>\n",
       "      <td>16</td>\n",
       "      <td>8_position_standard_create_first</td>\n",
       "      <td>[position, standard, create, first, system, ap...</td>\n",
       "      <td>[biostatistics bioinformatics apply position n...</td>\n",
       "    </tr>\n",
       "  </tbody>\n",
       "</table>\n",
       "</div>"
      ],
      "text/plain": [
       "   Topic  Count                                        Name  \\\n",
       "0     -1    501  -1_data_research_bioinformatics_experience   \n",
       "1      0    939    0_data_research_computational_experience   \n",
       "2      1    224      1_software_developer_experience_python   \n",
       "3      2    149     2_research_university_students_teaching   \n",
       "4      3     68     3_module_sequence_course_bioinformatics   \n",
       "5      4     47           4_job_jobs_bioinformatics_cassava   \n",
       "6      5     34               5_board_society_job_worldwide   \n",
       "7      6     22               6_protein_research_crag_plant   \n",
       "8      7     16        7_clinical_autoimmune_research_lupus   \n",
       "9      8     16            8_position_standard_create_first   \n",
       "\n",
       "                                      Representation  \\\n",
       "0  [data, research, bioinformatics, experience, c...   \n",
       "1  [data, research, computational, experience, bi...   \n",
       "2  [software, developer, experience, python, deve...   \n",
       "3  [research, university, students, teaching, bio...   \n",
       "4  [module, sequence, course, bioinformatics, lea...   \n",
       "5  [job, jobs, bioinformatics, cassava, institute...   \n",
       "6  [board, society, job, worldwide, oncology, pla...   \n",
       "7  [protein, research, crag, plant, computational...   \n",
       "8  [clinical, autoimmune, research, lupus, diseas...   \n",
       "9  [position, standard, create, first, system, ap...   \n",
       "\n",
       "                                 Representative_Docs  \n",
       "0  [principal scientist computational biology hum...  \n",
       "1  [descriptioncelgene global biopharmaceutical c...  \n",
       "2  [lead software developer bioinformaticsa new o...  \n",
       "3  [position description department biological st...  \n",
       "4  [biomedical sciencescourse co ordinatordr b c ...  \n",
       "5  [scientific programme pdra bioinformatics depe...  \n",
       "6  [found phd computational biology biostatistics...  \n",
       "7  [crag seeksthe centre research agricultural ge...  \n",
       "8  [data analyst bioinformatics specialist transl...  \n",
       "9  [biostatistics bioinformatics apply position n...  "
      ]
     },
     "execution_count": 30,
     "metadata": {},
     "output_type": "execute_result"
    }
   ],
   "source": [
    "freq = topic_model.get_topic_info(); freq.head(len(topic_model.get_topic_info()))"
   ]
  },
  {
   "cell_type": "markdown",
   "metadata": {
    "id": "-BtOgifV7Q-H"
   },
   "source": [
    "-1 refere-se a todos os outliers e normalmente deve ser ignorado. A seguir, vamos dar uma olhada em um tópico frequente que foi gerado:"
   ]
  },
  {
   "cell_type": "markdown",
   "metadata": {
    "id": "ixc-X2JzodrZ"
   },
   "source": [
    "**NOTE**: BERTopic is stochastic, which means topics may differ between runs. This is mainly due to the stochastic nature of UMAP."
   ]
  },
  {
   "cell_type": "code",
   "execution_count": 38,
   "metadata": {
    "colab": {
     "base_uri": "https://localhost:8080/"
    },
    "id": "IVpvT4bA6KiN",
    "outputId": "9cf99b89-30bb-45fe-b98b-063f8f3624d9",
    "scrolled": true
   },
   "outputs": [
    {
     "data": {
      "text/plain": [
       "[('data', 0.02872391625971289),\n",
       " ('experience', 0.02635777915484802),\n",
       " ('research', 0.025372789422789685),\n",
       " ('bioinformatics', 0.023685734788982706),\n",
       " ('computational', 0.021978285574913898),\n",
       " ('analysis', 0.020579058937215795),\n",
       " ('biology', 0.020324744568035333),\n",
       " ('development', 0.01773894828066943),\n",
       " ('cancer', 0.017645875350720198),\n",
       " ('software', 0.017297665134682175)]"
      ]
     },
     "execution_count": 38,
     "metadata": {},
     "output_type": "execute_result"
    }
   ],
   "source": [
    "topic_model.get_topic(0)  "
   ]
  },
  {
   "cell_type": "code",
   "execution_count": 39,
   "metadata": {},
   "outputs": [
    {
     "data": {
      "text/plain": [
       "[('university', 0.03985218700048508),\n",
       " ('research', 0.039678755533861396),\n",
       " ('students', 0.03184728002507955),\n",
       " ('teaching', 0.030999950794597494),\n",
       " ('faculty', 0.029077632150984422),\n",
       " ('program', 0.028668584317966032),\n",
       " ('biology', 0.028250686196313397),\n",
       " ('department', 0.027404806413874334),\n",
       " ('applicants', 0.023980417348768168),\n",
       " ('computational', 0.02227458081175145)]"
      ]
     },
     "execution_count": 39,
     "metadata": {},
     "output_type": "execute_result"
    }
   ],
   "source": [
    "topic_model.get_topic(1)  "
   ]
  },
  {
   "cell_type": "code",
   "execution_count": 40,
   "metadata": {},
   "outputs": [
    {
     "data": {
      "text/plain": [
       "[('bioinformatics', 0.05030927116731804),\n",
       " ('module', 0.047715852053891734),\n",
       " ('sequence', 0.040425593520767106),\n",
       " ('course', 0.03885533294790458),\n",
       " ('learning', 0.031133280502293612),\n",
       " ('modules', 0.02973637449006597),\n",
       " ('students', 0.029245609925581357),\n",
       " ('data', 0.027851401014928306),\n",
       " ('analysis', 0.024373940714381873),\n",
       " ('biological', 0.022923689673234934)]"
      ]
     },
     "execution_count": 40,
     "metadata": {},
     "output_type": "execute_result"
    }
   ],
   "source": [
    "topic_model.get_topic(2)  "
   ]
  },
  {
   "cell_type": "code",
   "execution_count": 41,
   "metadata": {},
   "outputs": [
    {
     "data": {
      "text/plain": [
       "[('sequencing', 0.051090897001368867),\n",
       " ('detection', 0.04574143581265577),\n",
       " ('analysis', 0.03968337788159084),\n",
       " ('applications', 0.03817930195744738),\n",
       " ('data', 0.03630610190543475),\n",
       " ('variants', 0.03526979045696186),\n",
       " ('expression', 0.031557946779457065),\n",
       " ('genotyping', 0.030985470892824024),\n",
       " ('gene', 0.03053899166957824),\n",
       " ('next', 0.029980145339290172)]"
      ]
     },
     "execution_count": 41,
     "metadata": {},
     "output_type": "execute_result"
    }
   ],
   "source": [
    "topic_model.get_topic(3)  "
   ]
  },
  {
   "cell_type": "code",
   "execution_count": 42,
   "metadata": {},
   "outputs": [
    {
     "data": {
      "text/plain": [
       "[('board', 0.2610430396038062),\n",
       " ('society', 0.24197964152042017),\n",
       " ('oncology', 0.23530524511789486),\n",
       " ('worldwide', 0.23182897955820073),\n",
       " ('sunny', 0.20716443175332533),\n",
       " ('platform', 0.19997736172469913),\n",
       " ('roots', 0.1979256353677251),\n",
       " ('backup', 0.1964309136130045),\n",
       " ('jobs', 0.1834906357576063),\n",
       " ('vacation', 0.1816206808230115)]"
      ]
     },
     "execution_count": 42,
     "metadata": {},
     "output_type": "execute_result"
    }
   ],
   "source": [
    "topic_model.get_topic(4)  "
   ]
  },
  {
   "cell_type": "code",
   "execution_count": 43,
   "metadata": {},
   "outputs": [
    {
     "data": {
      "text/plain": [
       "[('clinical', 0.05810178636198764),\n",
       " ('autoimmune', 0.053604174788055646),\n",
       " ('research', 0.048725180303971195),\n",
       " ('lupus', 0.04399856438253687),\n",
       " ('disease', 0.040543192680669235),\n",
       " ('investigators', 0.039753267381363463),\n",
       " ('basic', 0.03830187171308582),\n",
       " ('arthritis', 0.03585880879250139),\n",
       " ('data', 0.03385236976950784),\n",
       " ('translational', 0.03278942523216417)]"
      ]
     },
     "execution_count": 43,
     "metadata": {},
     "output_type": "execute_result"
    }
   ],
   "source": [
    "topic_model.get_topic(5)  "
   ]
  },
  {
   "cell_type": "code",
   "execution_count": 44,
   "metadata": {},
   "outputs": [
    {
     "data": {
      "text/plain": [
       "[('position', 0.5800958814614342),\n",
       " ('standard', 0.480080574983487),\n",
       " ('create', 0.4765335552480117),\n",
       " ('first', 0.4639000367778338),\n",
       " ('system', 0.41916326181069613),\n",
       " ('application', 0.33833719995338046),\n",
       " ('apply', 0.3255685883385101),\n",
       " ('biostatistics', 0.3046649112834317),\n",
       " ('new', 0.30028672032611187),\n",
       " ('bioinformatics', 0.15036651171620305)]"
      ]
     },
     "execution_count": 44,
     "metadata": {},
     "output_type": "execute_result"
    }
   ],
   "source": [
    "topic_model.get_topic(6)  "
   ]
  },
  {
   "cell_type": "code",
   "execution_count": 45,
   "metadata": {},
   "outputs": [
    {
     "data": {
      "text/plain": [
       "[('job', 0.5499867693591898),\n",
       " ('board', 0.46200474469562525),\n",
       " ('society', 0.4282655560242357),\n",
       " ('worldwide', 0.41030049556729176),\n",
       " ('found', 0.40590448662756723),\n",
       " ('platform', 0.3539281878143484),\n",
       " ('oncology', 0.3407342185798088),\n",
       " ('biostatistics', 0.3191727642016904),\n",
       " ('phd', 0.2740139481154898),\n",
       " ('clinical', 0.23679307574962652)]"
      ]
     },
     "execution_count": 45,
     "metadata": {},
     "output_type": "execute_result"
    }
   ],
   "source": [
    "topic_model.get_topic(7)  "
   ]
  },
  {
   "cell_type": "code",
   "execution_count": 46,
   "metadata": {},
   "outputs": [
    {
     "data": {
      "text/plain": [
       "[('jobs', 0.41709147699074495),\n",
       " ('job', 0.30576881762207664),\n",
       " ('still', 0.2798972338187333),\n",
       " ('go', 0.2316554088095096),\n",
       " ('many', 0.21023372879757518),\n",
       " ('live', 0.209496640442525),\n",
       " ('page', 0.20624398390650325),\n",
       " ('institute', 0.1989093240003256),\n",
       " ('search', 0.18556533672845466),\n",
       " ('similar', 0.16461095868478728)]"
      ]
     },
     "execution_count": 46,
     "metadata": {},
     "output_type": "execute_result"
    }
   ],
   "source": [
    "topic_model.get_topic(8)  "
   ]
  },
  {
   "cell_type": "code",
   "execution_count": 47,
   "metadata": {
    "scrolled": true
   },
   "outputs": [
    {
     "data": {
      "text/plain": [
       "[('industry', 0.10062148377643924),\n",
       " ('partners', 0.09926351945809722),\n",
       " ('commercial', 0.09750672769859353),\n",
       " ('working', 0.0784106397240603),\n",
       " ('life', 0.061115509372103236),\n",
       " ('create', 0.0606873413340449),\n",
       " ('negotiation', 0.060148951700745606),\n",
       " ('agreements', 0.060148951700745606),\n",
       " ('works', 0.05617172355795957),\n",
       " ('partnership', 0.054093699343213966)]"
      ]
     },
     "execution_count": 47,
     "metadata": {},
     "output_type": "execute_result"
    }
   ],
   "source": [
    "topic_model.get_topic(9)  "
   ]
  },
  {
   "cell_type": "markdown",
   "metadata": {
    "id": "4spXl2_C6flq"
   },
   "source": [
    "## View terms\n",
    "\n",
    "We can visualize selected terms for some topics by creating bar charts from the c-TF-IDF scores for each topic representation. Insights can be gained from the relative c-TF-IDF scores between and within topics. Additionally, you can easily compare topic representations with each other."
   ]
  },
  {
   "cell_type": "code",
   "execution_count": 55,
   "metadata": {
    "colab": {
     "base_uri": "https://localhost:8080/",
     "height": 617
    },
    "id": "zpm9LsKW6mi5",
    "outputId": "1197affc-dde2-44c1-9ba7-c9fb36a1143c",
    "scrolled": false
   },
   "outputs": [],
   "source": [
    "topic_model.visualize_barchart(top_n_topics=51, n_words=10, height=300)"
   ]
  },
  {
   "cell_type": "code",
   "execution_count": null,
   "metadata": {},
   "outputs": [],
   "source": []
  }
 ],
 "metadata": {
  "accelerator": "GPU",
  "colab": {
   "provenance": [],
   "toc_visible": true
  },
  "gpuClass": "standard",
  "kernelspec": {
   "display_name": "Python 3 (ipykernel)",
   "language": "python",
   "name": "python3"
  },
  "language_info": {
   "codemirror_mode": {
    "name": "ipython",
    "version": 3
   },
   "file_extension": ".py",
   "mimetype": "text/x-python",
   "name": "python",
   "nbconvert_exporter": "python",
   "pygments_lexer": "ipython3",
   "version": "3.11.5"
  }
 },
 "nbformat": 4,
 "nbformat_minor": 1
}
